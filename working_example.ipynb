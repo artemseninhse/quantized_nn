{
 "cells": [
  {
   "cell_type": "code",
   "execution_count": null,
   "id": "2e04e57a",
   "metadata": {},
   "outputs": [],
   "source": [
    "from engine import ModelEvaluator\n",
    "\n",
    "evaluator = ModelEvaluator()\n",
    "evaluator.evaluate()"
   ]
  }
 ],
 "metadata": {
  "kernelspec": {
   "display_name": "Python 3",
   "language": "python",
   "name": "python3"
  },
  "language_info": {
   "codemirror_mode": {
    "name": "ipython",
    "version": 3
   },
   "file_extension": ".py",
   "mimetype": "text/x-python",
   "name": "python",
   "nbconvert_exporter": "python",
   "pygments_lexer": "ipython3",
   "version": "3.8.5"
  }
 },
 "nbformat": 4,
 "nbformat_minor": 5
}
