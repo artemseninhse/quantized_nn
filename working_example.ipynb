{
 "cells": [
  {
   "cell_type": "markdown",
   "id": "46fe0f17",
   "metadata": {},
   "source": [
    "__Loading modules and objects required__"
   ]
  },
  {
   "cell_type": "code",
   "execution_count": 1,
   "id": "4e2134b5",
   "metadata": {},
   "outputs": [
    {
     "name": "stderr",
     "output_type": "stream",
     "text": [
      "/root/text_utils.py:6: TqdmExperimentalWarning: Using `tqdm.autonotebook.tqdm` in notebook mode. Use `tqdm.tqdm` instead to force console mode (e.g. in jupyter console)\n",
      "  from tqdm.autonotebook import tqdm\n"
     ]
    }
   ],
   "source": [
    "from sklearn.model_selection import train_test_split\n",
    "from text_utils import TextTokenizer, TextProcessor\n",
    "from utils import (\n",
    "    META_PATH, \n",
    "    SEED, \n",
    "    TEST_SIZE,\n",
    "    load_pickle,\n",
    "    dump_pickle\n",
    ")\n"
   ]
  },
  {
   "cell_type": "markdown",
   "id": "ae6a0522",
   "metadata": {},
   "source": [
    "__Initializing text processor and obtaining IMDB text corpus__"
   ]
  },
  {
   "cell_type": "code",
   "execution_count": 2,
   "id": "729976ec",
   "metadata": {},
   "outputs": [
    {
     "data": {
      "application/vnd.jupyter.widget-view+json": {
       "model_id": "0652f095db104903835b508e712ad239",
       "version_major": 2,
       "version_minor": 0
      },
      "text/plain": [
       "  0%|          | 0/50000 [00:00<?, ?it/s]"
      ]
     },
     "metadata": {},
     "output_type": "display_data"
    }
   ],
   "source": [
    "processor = TextProcessor(META_PATH)\n",
    "corpus = processor.get_corpus()\n",
    "train_corpus, test_corpus = train_test_split(corpus,\n",
    "                                             test_size=TEST_SIZE,\n",
    "                                             random_state=SEED)\n"
   ]
  },
  {
   "cell_type": "markdown",
   "id": "efdd0013",
   "metadata": {},
   "source": [
    "__Initializing text tokenizer and tokenizing text__"
   ]
  },
  {
   "cell_type": "code",
   "execution_count": 3,
   "id": "d1e1c7fc",
   "metadata": {},
   "outputs": [
    {
     "data": {
      "application/vnd.jupyter.widget-view+json": {
       "model_id": "10f73a9b9ad941f3aeff42deda46f1cc",
       "version_major": 2,
       "version_minor": 0
      },
      "text/plain": [
       "  0%|          | 0/40000 [00:00<?, ?it/s]"
      ]
     },
     "metadata": {},
     "output_type": "display_data"
    },
    {
     "data": {
      "application/vnd.jupyter.widget-view+json": {
       "model_id": "787f0765896144769fa435fa8aa90a41",
       "version_major": 2,
       "version_minor": 0
      },
      "text/plain": [
       "  0%|          | 0/10000 [00:00<?, ?it/s]"
      ]
     },
     "metadata": {},
     "output_type": "display_data"
    }
   ],
   "source": [
    "tokenizer = TextTokenizer(pad_method=\"center\")\n",
    "train_tokenized = tokenizer.fit_transform(train_corpus)\n",
    "test_tokenized = tokenizer.transform(test_corpus)\n"
   ]
  },
  {
   "cell_type": "code",
   "execution_count": 4,
   "id": "cd8cb5a7",
   "metadata": {},
   "outputs": [],
   "source": [
    "dump_pickle(test_corpus, \"test_corpus.pkl\")\n",
    "dump_pickle(test_tokenized, \"test_tokenized.pkl\")\n",
    "dump_pickle(tokenizer, \"tokenizer.pkl\")"
   ]
  },
  {
   "cell_type": "markdown",
   "id": "401dfc36",
   "metadata": {},
   "source": [
    "__Printing several examples of tokenizing and detokenizing text__"
   ]
  },
  {
   "cell_type": "code",
   "execution_count": 5,
   "id": "26155fef",
   "metadata": {},
   "outputs": [],
   "source": [
    "test_corpus = load_pickle(\"test_corpus.pkl\")\n",
    "test_tokenized = load_pickle(\"test_tokenized.pkl\")\n",
    "tokenizer = load_pickle(\"tokenizer.pkl\")"
   ]
  },
  {
   "cell_type": "code",
   "execution_count": 6,
   "id": "7a828950",
   "metadata": {},
   "outputs": [
    {
     "name": "stdout",
     "output_type": "stream",
     "text": [
      "this showtime cable film features a talented cast and weaves together several storylines involving the darker side of new york . . . from the naive and innocent tourists nightmarish adventure to a pair of undercover cops on the streets . . . to an old friends betrayal it has it all . well worth a look as is its sequel .\n",
      "[2, 2, 2, 2, 2, 2, 2, 2, 2, 2, 2, 2, 2, 2, 2, 2, 2, 2, 2, 2, 2, 2, 2, 2, 2, 2, 2, 2, 2, 2, 2, 2, 2, 2, 2, 2, 2, 2, 2, 2, 2, 2, 2, 2, 2, 2, 2, 2, 2, 2, 2, 2, 2, 2, 2, 2, 2, 2, 2, 2, 2, 2, 2, 2, 2, 2, 2, 2, 2, 2, 2, 2, 2, 2, 2, 2, 2, 2, 2, 2, 2, 2, 2, 2, 2, 2, 2, 2, 2, 2, 2, 2, 2, 2, 2, 2, 2, 2, 2, 2, 2, 2, 2, 2, 2, 2, 2, 2, 2, 2, 2, 2, 2, 2, 2, 2, 2, 2, 2, 2, 2, 2, 2, 2, 2, 2, 2, 2, 2, 2, 2, 2, 2, 2, 2, 2, 2, 2, 2, 2, 2, 2, 2, 2, 2, 2, 2, 2, 2, 2, 2, 2, 2, 2, 2, 2, 2, 2, 2, 2, 2, 2, 2, 2, 2, 2, 2, 2, 2, 2, 2, 2, 2, 2, 2, 2, 2, 2, 2, 2, 2, 2, 2, 2, 2, 2, 2, 2, 2, 2, 2, 2, 2, 2, 2, 2, 2, 2, 2, 2, 2, 2, 2, 2, 2, 2, 2, 2, 2, 2, 2, 2, 2, 2, 2, 2, 2, 2, 1, 9, 3308, 1717, 10, 1913, 12, 4588, 676, 56, 16903, 777, 3629, 3, 936, 28, 14093, 969, 72, 1018, 1973, 14, 14, 14, 26, 28, 2291, 56, 1892, 1691, 17028, 7902, 81, 12, 1610, 72, 12455, 300, 16, 28, 6378, 14, 14, 14, 81, 393, 628, 1208, 316, 19, 195, 19, 634, 14, 21, 22, 12, 547, 162, 31, 283, 570, 14, 0, 2, 2, 2, 2, 2, 2, 2, 2, 2, 2, 2, 2, 2, 2, 2, 2, 2, 2, 2, 2, 2, 2, 2, 2, 2, 2, 2, 2, 2, 2, 2, 2, 2, 2, 2, 2, 2, 2, 2, 2, 2, 2, 2, 2, 2, 2, 2, 2, 2, 2, 2, 2, 2, 2, 2, 2, 2, 2, 2, 2, 2, 2, 2, 2, 2, 2, 2, 2, 2, 2, 2, 2, 2, 2, 2, 2, 2, 2, 2, 2, 2, 2, 2, 2, 2, 2, 2, 2, 2, 2, 2, 2, 2, 2, 2, 2, 2, 2, 2, 2, 2, 2, 2, 2, 2, 2, 2, 2, 2, 2, 2, 2, 2, 2, 2, 2, 2, 2, 2, 2, 2, 2, 2, 2, 2, 2, 2, 2, 2, 2, 2, 2, 2, 2, 2, 2, 2, 2, 2, 2, 2, 2, 2, 2, 2, 2, 2, 2, 2, 2, 2, 2, 2, 2, 2, 2, 2, 2, 2, 2, 2, 2, 2, 2, 2, 2, 2, 2, 2, 2, 2, 2, 2, 2, 2, 2, 2, 2, 2, 2, 2, 2, 2, 2, 2, 2, 2, 2, 2, 2, 2, 2, 2, 2, 2, 2, 2, 2, 2, 2, 2, 2, 2, 2, 2, 2, 2, 2, 2, 2, 2, 2, 2, 2, 2, 2, 2, 2]\n",
      "this showtime cable film features a talented cast and weaves together several unk_tok involving the darker side of new york . . . from the naive and innocent tourists nightmarish adventure to a pair of undercover cops on the streets . . . to an old friends betrayal it has it all . well worth a look as is its sequel .\n",
      "\n",
      "\n",
      "basically a typical propaganda film for the last good war . but there were a couple things that struck me . first was the use of mouthed epithets . in two cases the scott character mouths one once at the beginning when he drops his bomb off target during the bomboff dammit and once when he is trying to sway a bombardier into being a pilot st . i could be wrong about the second instance but i replayed it several times and thats what it looks like to me . the third case is when the anne shirley character wishes the obrien character goodbye and good luck give em hell over the roar of the engines . she must have thought that was too unladylike because she clearly says heck . i also found interesting the character that has moral problems with bombing specifically bombing civilians . the avuncular superior officer assures him that only military targets will be hit due to the precision of the bombsight used . given what we know about the lemays later strategy of firebombing japanese cities into oblivion this scene plays with not a little irony . i remember mcnamaras quoting of lemay in the fog of war something to the effect that if the us did not win the conflict he would be tried as a war criminal . the ending is way overwrought in keeping with the movie . it reminded me a bit of the end of white heat im not comparing the films just the ending . maybe its just cause he gets blowed up . blowed up real good\n",
      "[2, 2, 2, 2, 2, 2, 2, 2, 2, 2, 2, 2, 2, 2, 2, 2, 2, 2, 2, 2, 2, 2, 2, 2, 2, 2, 2, 2, 2, 2, 2, 2, 2, 2, 2, 2, 2, 2, 2, 2, 2, 2, 2, 2, 2, 2, 2, 2, 2, 2, 2, 2, 2, 2, 2, 2, 2, 2, 2, 2, 2, 2, 2, 2, 2, 2, 2, 2, 2, 2, 2, 2, 2, 2, 2, 2, 2, 2, 2, 2, 2, 2, 2, 2, 2, 2, 2, 2, 2, 2, 2, 2, 2, 2, 2, 2, 2, 2, 2, 2, 2, 2, 2, 2, 2, 2, 2, 2, 2, 2, 2, 2, 2, 1, 1423, 12, 1890, 9233, 10, 65, 28, 1125, 144, 1087, 14, 274, 76, 149, 12, 610, 142, 48, 8983, 412, 14, 631, 20, 28, 743, 72, 3, 3, 14, 38, 33, 6546, 28, 228, 312, 13218, 98, 191, 11, 28, 386, 7, 324, 8923, 313, 3210, 130, 10229, 322, 28, 3, 3, 56, 191, 7, 324, 31, 1183, 81, 3, 12, 3, 381, 198, 12, 4097, 10224, 14, 4, 41, 106, 102, 109, 28, 696, 6337, 274, 4, 3, 19, 3629, 847, 56, 51, 200, 19, 654, 208, 81, 412, 14, 28, 1686, 2369, 31, 7, 28, 5739, 19796, 312, 194, 28, 12124, 312, 6967, 56, 144, 4786, 854, 7971, 4117, 716, 28, 3, 72, 28, 3, 14, 137, 5, 43, 118, 48, 20, 123, 3, 378, 137, 2981, 1893, 2553, 14, 4, 1056, 157, 244, 28, 312, 48, 195, 3534, 2902, 205, 4401, 14273, 4401, 8655, 14, 28, 3, 5124, 4858, 3, 370, 48, 193, 3840, 9541, 325, 106, 1189, 1432, 81, 28, 3, 72, 28, 3, 702, 14, 673, 200, 441, 212, 109, 28, 3, 1681, 3, 72, 3, 4753, 8664, 381, 25738, 9, 30, 657, 205, 189, 12, 206, 2302, 14, 4, 982, 3, 3, 72, 3, 38, 28, 18178, 72, 1087, 204, 81, 28, 2177, 48, 47, 28, 445, 138, 189, 171, 28, 6474, 324, 104, 106, 742, 162, 12, 1087, 5939, 14, 28, 858, 31, 296, 11303, 38, 2831, 205, 28, 131, 14, 19, 934, 412, 12, 407, 72, 28, 406, 72, 552, 9273, 78, 189, 2860, 28, 121, 82, 28, 858, 14, 364, 283, 82, 3434, 324, 966, 3, 857, 14, 3, 857, 117, 144, 0, 2, 2, 2, 2, 2, 2, 2, 2, 2, 2, 2, 2, 2, 2, 2, 2, 2, 2, 2, 2, 2, 2, 2, 2, 2, 2, 2, 2, 2, 2, 2, 2, 2, 2, 2, 2, 2, 2, 2, 2, 2, 2, 2, 2, 2, 2, 2, 2, 2, 2, 2, 2, 2, 2, 2, 2, 2, 2, 2, 2, 2, 2, 2, 2, 2, 2, 2, 2, 2, 2, 2, 2, 2, 2, 2, 2, 2, 2, 2, 2, 2, 2, 2, 2, 2, 2, 2, 2, 2, 2, 2, 2, 2, 2, 2, 2, 2, 2, 2, 2, 2, 2, 2, 2, 2, 2, 2, 2, 2, 2, 2, 2, 2, 2]\n",
      "basically a typical propaganda film for the last good war . but there were a couple things that struck me . first was the use of unk_tok unk_tok . in two cases the scott character mouths one once at the beginning when he drops his bomb off target during the unk_tok unk_tok and once when he is trying to unk_tok a unk_tok into being a pilot st . i could be wrong about the second instance but i unk_tok it several times and thats what it looks like to me . the third case is when the anne shirley character wishes the obrien character goodbye and good luck give em hell over the unk_tok of the unk_tok . she must have thought that was too unk_tok because she clearly says heck . i also found interesting the character that has moral problems with bombing specifically bombing civilians . the unk_tok superior officer unk_tok him that only military targets will be hit due to the unk_tok of the unk_tok used . given what we know about the unk_tok later unk_tok of unk_tok japanese cities into oblivion this scene plays with not a little irony . i remember unk_tok unk_tok of unk_tok in the fog of war something to the effect that if the us did not win the conflict he would be tried as a war criminal . the ending is way overwrought in keeping with the movie . it reminded me a bit of the end of white heat im not comparing the films just the ending . maybe its just cause he gets unk_tok up . unk_tok up real good\n",
      "\n",
      "\n",
      "what weve got here is a situation . a man is found to be in distress and people want to help him in contrasting ways . at the end they are forced to let it go . you cant fix people . and though in various aspects reign over me is conventionally hollywood that message isnt . this story is not about charlie fineman adam sandler a man who lost his wife and three daughters in a 911 plane whos gone into a nearly psychotic state of ptss since . its about what meeting charlie does to alan johnson don cheadle a dentist in new york who was his roommate in dental school and knowing about his tragedy spots him on the street and reconnects . charlie is riding around on a little toy motorized scooter a pretty fanciful contraption for negotiating manhattan traffic with big headphones on over a mass of unruly hair . the hair is sandlers chief prop to show hes deranged . and the use of music as an escape must hit home to every ipodwielding subway rider . charlie is a disaster but paradoxically alan stuck with a controlling wife jada pinkett smith soon begins to envy him . charlie is living like an nutty adolescent boy with a huge trust fund insurance money from the tragedy and starts dragging alan off to hang out eat chinese buy records or watch a mel brooks marathon at a rep house . charlie lives in a nice big apartment protected by a mean landlady redoing the kitchen over and over collecting old vinyl of springsteen the who etc . and playing a video game called shadow of the collosus on a giant screen in a big empty living room . charlies inlaws are deeply concerned about him but also somehow resentful as we learn later . alan has a new patient who is propositioning him . charlies desperation makes us see alans . trying to help charlie partly permits alan to escape from his own stifling realities but partly just makes him more acutely aware of them . cheadle and sandler make an odd couple but that doesnt matter because its convincing that they might both need each other . charlie is desperate for the companionship of a friend who never knew his family because to escape his loss he is pretending he never had one . and so what if as a roommate charlie slept naked and sleep walked and had terrible musical taste no motown alan wants an escape from his tidy emasculating life . hes under the thumb not just of his wife but of his dental partners who lord it over him though its he who set up the practice . theyre white by the way and hes black . theres also the lascivious patient from hell who seriously disrupts things at the dental offices but starts looking different when charlie comes by and notices shes a babe . his libido seems to be lurking ready to revive at any minute . hes also drawn to the breasts of liv tyler a psychotherapist in the same building as the dentists who starts trying to treat charlie when he admits he might need help . sandlers mad scenes are a little too theatrical as are a lot of the plot devices in fact this movie feels like a play at more than one point but he has several monologues where he expresses his sorrow in ways that are deeply touching . charlies not just delusional and sad but dangerous and violent and all these efforts to help him start to backfire . the movie is admirable in the way it conveys a sense that people cant be made right . this is an interesting movie sometimes a touching one and its the first time 911 has been dealt with in terms of survivor suffering . but there is an element of comedy that seems tasteless at times many of the people are too broadly drawn and the overly grand hollywood interiors have dreadful dcor only the manhattan streets look real . theres a courtroom scene that is preposterous and donald sutherland is a judge whos too good to be true . alans family problem is resolved too easily with a phone call . and yet this is worth watching for the acting the control and subtlety of cheadle and sandler in a serious role almost as good as the one he had in p . t . andersons 2002 punchdrunk love though thats clearly a better movie in fact a much better one .\n",
      "[1, 200, 6215, 273, 516, 31, 12, 2518, 14, 12, 311, 31, 157, 81, 106, 38, 19888, 56, 85, 268, 81, 374, 370, 38, 3, 96, 14, 11, 28, 406, 42, 37, 351, 81, 768, 19, 497, 14, 90, 91, 2068, 85, 14, 56, 985, 38, 5539, 603, 14654, 716, 412, 31, 3, 2795, 48, 2900, 689, 14, 9, 93, 31, 189, 109, 1156, 3, 2881, 2882, 12, 311, 173, 328, 313, 348, 56, 561, 1841, 38, 12, 25689, 1771, 5083, 1636, 381, 12, 27, 7370, 3936, 72, 3, 559, 14, 283, 109, 200, 4387, 1156, 595, 81, 3637, 4790, 8051, 24449, 12, 22492, 38, 1018, 1973, 173, 20, 313, 7655, 38, 3, 1220, 56, 3990, 109, 313, 333, 5850, 370, 16, 28, 2079, 56, 3, 14, 1156, 31, 10354, 759, 16, 12, 206, 7898, 3, 3, 12, 52, 3, 3, 65, 3, 19023, 16013, 205, 485, 3, 16, 716, 12, 8663, 72, 3, 1512, 14, 28, 1512, 31, 3, 4021, 18342, 81, 1700, 809, 14178, 14, 56, 28, 743, 72, 1867, 162, 393, 1962, 5, 1189, 828, 81, 365, 3, 11917, 17797, 14, 1156, 31, 12, 6008, 274, 3, 3637, 2789, 205, 12, 5567, 348, 3, 3, 5029, 231, 2096, 81, 3748, 370, 14, 1156, 31, 2622, 208, 393, 3, 14626, 86, 205, 12, 1384, 3073, 8105, 11720, 638, 26, 28, 333, 56, 403, 14621, 3637, 130, 81, 4054, 307, 2720, 6670, 520, 25451, 286, 217, 12, 2610, 2611, 2474, 11, 12, 3, 1119, 14, 1156, 1097, 38, 12, 294, 485, 7840, 3, 806, 12, 1579, 3, 3, 28, 8518, 716, 56, 716, 29348, 628, 3, 72, 3, 28, 173, 1193, 14, 56, 79, 12, 2449, 538, 1309, 4116, 72, 28, 3, 16, 12, 3202, 861, 38, 12, 485, 2098, 2622, 3263, 14, 10395, 3, 37, 1101, 5489, 109, 370, 274, 1056, 2236, 3, 162, 441, 349, 1681, 14, 3637, 195, 12, 1018, 4303, 173, 31, 3, 370, 14, 10395, 4206, 930, 445, 269, 3, 14, 1183, 81, 374, 1156, 3869, 3, 3637, 81, 1962, 26, 313, 295, 3, 10963, 274, 3869, 82, 930, 370, 46, 3, 3658, 72, 337, 14, 24449, 56, 2882, 143, 393, 2519, 610, 274, 48, 341, 821, 378, 283, 5622, 48, 42, 562, 823, 1318, 475, 258, 14, 1156, 31, 3530, 65, 28, 3, 72, 12, 330, 173, 350, 419, 313, 917, 378, 81, 1962, 313, 9079, 324, 31, 2171, 324, 350, 371, 98, 14, 56, 107, 200, 47, 162, 12, 7655, 1156, 8618, 8120, 56, 1325, 8745, 56, 371, 2523, 2376, 1285, 63, 3, 3637, 344, 393, 1962, 26, 313, 3, 3, 339, 14, 809, 489, 28, 8793, 189, 82, 72, 313, 348, 274, 72, 313, 3, 14337, 173, 3602, 19, 716, 370, 985, 283, 324, 173, 1110, 857, 28, 19218, 14, 578, 552, 806, 28, 296, 56, 809, 3752, 14, 618, 1056, 28, 3, 4303, 26, 4117, 173, 2869, 3, 142, 11, 28, 3, 3, 274, 403, 2669, 275, 7, 1156, 320, 806, 56, 6911, 624, 12, 9822, 14, 313, 3, 0]\n",
      "what weve got here is a situation . a man is found to be in distress and people want to help him in unk_tok ways . at the end they are forced to let it go . you cant fix people . and though in various aspects reign over me is unk_tok hollywood that message isnt . this story is not about charlie unk_tok adam sandler a man who lost his wife and three daughters in a 911 plane whos gone into a nearly psychotic state of unk_tok since . its about what meeting charlie does to alan johnson don cheadle a dentist in new york who was his roommate in unk_tok school and knowing about his tragedy spots him on the street and unk_tok . charlie is riding around on a little toy unk_tok unk_tok a pretty unk_tok unk_tok for unk_tok manhattan traffic with big unk_tok on over a mass of unk_tok hair . the hair is unk_tok chief prop to show hes deranged . and the use of music as an escape must hit home to every unk_tok subway rider . charlie is a disaster but unk_tok alan stuck with a controlling wife unk_tok unk_tok smith soon begins to envy him . charlie is living like an unk_tok adolescent boy with a huge trust fund insurance money from the tragedy and starts dragging alan off to hang out eat chinese buy records or watch a mel brooks marathon at a unk_tok house . charlie lives in a nice big apartment unk_tok by a mean unk_tok unk_tok the kitchen over and over collecting old unk_tok of unk_tok the who etc . and playing a video game called shadow of the unk_tok on a giant screen in a big empty living room . charlies unk_tok are deeply concerned about him but also somehow unk_tok as we learn later . alan has a new patient who is unk_tok him . charlies desperation makes us see unk_tok . trying to help charlie partly unk_tok alan to escape from his own unk_tok realities but partly just makes him more unk_tok aware of them . cheadle and sandler make an odd couple but that doesnt matter because its convincing that they might both need each other . charlie is desperate for the unk_tok of a friend who never knew his family because to escape his loss he is pretending he never had one . and so what if as a roommate charlie slept naked and sleep walked and had terrible musical taste no unk_tok alan wants an escape from his unk_tok unk_tok life . hes under the thumb not just of his wife but of his unk_tok partners who lord it over him though its he who set up the practice . theyre white by the way and hes black . theres also the unk_tok patient from hell who seriously unk_tok things at the unk_tok unk_tok but starts looking different when charlie comes by and notices shes a babe . his unk_tok\n",
      "\n",
      "\n"
     ]
    }
   ],
   "source": [
    "for sent_orig, sent_tok in zip(test_corpus[:3], test_tokenized[:3]):\n",
    "    print(\" \".join(sent_orig))\n",
    "    print(sent_tok)\n",
    "    print(\" \".join(tokenizer.get_text_from_vec(sent_tok)))\n",
    "    print(\"\\n\")"
   ]
  },
  {
   "cell_type": "code",
   "execution_count": null,
   "id": "8e30be5e",
   "metadata": {},
   "outputs": [],
   "source": []
  }
 ],
 "metadata": {
  "kernelspec": {
   "display_name": "Python 3",
   "language": "python",
   "name": "python3"
  },
  "language_info": {
   "codemirror_mode": {
    "name": "ipython",
    "version": 3
   },
   "file_extension": ".py",
   "mimetype": "text/x-python",
   "name": "python",
   "nbconvert_exporter": "python",
   "pygments_lexer": "ipython3",
   "version": "3.6.9"
  }
 },
 "nbformat": 4,
 "nbformat_minor": 5
}
