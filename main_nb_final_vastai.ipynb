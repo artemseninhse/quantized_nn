{
 "cells": [
  {
   "cell_type": "code",
   "execution_count": null,
   "id": "a5835346",
   "metadata": {},
   "outputs": [],
   "source": [
    "!pip3 install torch==1.8.1+cu111 torchvision==0.9.1+cu111 torchaudio==0.8.1 -f https://download.pytorch.org/whl/torch_stable.html"
   ]
  },
  {
   "cell_type": "code",
   "execution_count": 5,
   "id": "1a335609",
   "metadata": {},
   "outputs": [],
   "source": [
    "import json\n",
    "import matplotlib.pyplot as plt\n",
    "import numpy as np\n",
    "import os\n",
    "import pandas as pd\n",
    "import torch\n",
    "import torch.nn as nn\n",
    "import torch.optim as optim\n",
    "\n",
    "from IPython.display import clear_output\n",
    "from sklearn.model_selection import train_test_split\n",
    "from torch.utils.data import Dataset, DataLoader\n",
    "from transformers import AddedToken, GPT2Config, GPT2Tokenizer, GPT2ForSequenceClassification, GPT2Model\n",
    "from text_utils import custom_data_gen, DBpedia, TextProcessor, TextTokenizer\n",
    "from tqdm.autonotebook import tqdm\n",
    "from utils import META_PATH"
   ]
  },
  {
   "cell_type": "code",
   "execution_count": 28,
   "id": "6dc0bafe",
   "metadata": {},
   "outputs": [],
   "source": [
    "LR = 1e-4\n",
    "LR_DECAY = 0.8\n",
    "MIN_LR = 5e-6\n",
    "N_EPOCHS = 20\n",
    "PLATEAU = 3\n",
    "BATCH_SIZE = 64\n",
    "MAX_LEN = 100\n",
    "DEVICE = \"cuda\" if torch.cuda.is_available() else \"cpu\""
   ]
  },
  {
   "cell_type": "code",
   "execution_count": 29,
   "id": "3e25ef1a",
   "metadata": {},
   "outputs": [
    {
     "data": {
      "text/plain": [
       "0"
      ]
     },
     "execution_count": 29,
     "metadata": {},
     "output_type": "execute_result"
    }
   ],
   "source": [
    "tokenizer = GPT2Tokenizer.from_pretrained(\"gpt2\")\n",
    "tokenizer.add_special_tokens({\n",
    "    \"pad_token\": AddedToken(\"<|endoftext|>\", rstrip=False, lstrip=False, single_word=False, normalized=True)\n",
    "})"
   ]
  },
  {
   "cell_type": "code",
   "execution_count": null,
   "id": "99425e62",
   "metadata": {},
   "outputs": [],
   "source": [
    "## to do\n",
    "## re split: part of train use for quantization, part of test use for examples\n",
    "\n",
    "## just change contents of csv"
   ]
  },
  {
   "cell_type": "markdown",
   "id": "27212799",
   "metadata": {},
   "source": [
    "__Plan__\n",
    "\n",
    "__1.1. re split data 19:05 DONE__\n",
    "  \n",
    "__1.2. new dataloaders 19:20 DONE__\n",
    "\n",
    "__2. write train loop 19:40__\n",
    "\n",
    "__3. train gpt2 several attention layers 20:00__"
   ]
  },
  {
   "cell_type": "markdown",
   "id": "27f5dc14",
   "metadata": {},
   "source": [
    "__1. re split data__"
   ]
  },
  {
   "cell_type": "code",
   "execution_count": null,
   "id": "7862fba6",
   "metadata": {},
   "outputs": [],
   "source": [
    "pwd"
   ]
  },
  {
   "cell_type": "code",
   "execution_count": 4,
   "id": "bd2a23f4",
   "metadata": {},
   "outputs": [
    {
     "ename": "FileExistsError",
     "evalue": "[Errno 17] File exists: 'data_db/'",
     "output_type": "error",
     "traceback": [
      "\u001b[0;31m\u001b[0m",
      "\u001b[0;31mFileExistsError\u001b[0mTraceback (most recent call last)",
      "\u001b[0;32m<ipython-input-4-8c5d47b0e6fb>\u001b[0m in \u001b[0;36m<module>\u001b[0;34m\u001b[0m\n\u001b[1;32m     18\u001b[0m                                          random_state=1234567890)\n\u001b[1;32m     19\u001b[0m \u001b[0;34m\u001b[0m\u001b[0m\n\u001b[0;32m---> 20\u001b[0;31m \u001b[0mos\u001b[0m\u001b[0;34m.\u001b[0m\u001b[0mmkdir\u001b[0m\u001b[0;34m(\u001b[0m\u001b[0;34m\"data_db/\"\u001b[0m\u001b[0;34m)\u001b[0m\u001b[0;34m\u001b[0m\u001b[0;34m\u001b[0m\u001b[0m\n\u001b[0m\u001b[1;32m     21\u001b[0m \u001b[0mtrain_data\u001b[0m\u001b[0;34m.\u001b[0m\u001b[0mto_csv\u001b[0m\u001b[0;34m(\u001b[0m\u001b[0;34m\"data_db/train.csv\"\u001b[0m\u001b[0;34m,\u001b[0m \u001b[0mindex\u001b[0m\u001b[0;34m=\u001b[0m\u001b[0;32mNone\u001b[0m\u001b[0;34m)\u001b[0m\u001b[0;34m\u001b[0m\u001b[0;34m\u001b[0m\u001b[0m\n\u001b[1;32m     22\u001b[0m \u001b[0mquant_data\u001b[0m\u001b[0;34m.\u001b[0m\u001b[0mto_csv\u001b[0m\u001b[0;34m(\u001b[0m\u001b[0;34m\"data_db/quant.csv\"\u001b[0m\u001b[0;34m,\u001b[0m \u001b[0mindex\u001b[0m\u001b[0;34m=\u001b[0m\u001b[0;32mNone\u001b[0m\u001b[0;34m)\u001b[0m\u001b[0;34m\u001b[0m\u001b[0;34m\u001b[0m\u001b[0m\n",
      "\u001b[0;31mFileExistsError\u001b[0m: [Errno 17] File exists: 'data_db/'"
     ]
    }
   ],
   "source": [
    "# data = DBpedia(root=\"/root/quantized_nn/dbpedia_data\")\n",
    "\n",
    "# train_data = pd.read_csv(\"dbpedia_data/dbpedia_csv/train.csv\", header=None)\n",
    "# test_data = pd.read_csv(\"dbpedia_data/dbpedia_csv/test.csv\", header=None)\n",
    "\n",
    "# train_data.columns = [\"class\", \"header\", \"content\"]\n",
    "# test_data.columns = [\"class\", \"header\", \"content\"]\n",
    "\n",
    "\n",
    "\n",
    "# train_data, quant_data = train_test_split(train_data,\n",
    "#                                           test_size=0.2,\n",
    "#                                           stratify=train_data[\"class\"],\n",
    "#                                           random_state=1234567890)\n",
    "# test_data, infer_data = train_test_split(test_data,\n",
    "#                                          test_size=0.5,\n",
    "#                                          stratify=test_data[\"class\"],\n",
    "#                                          random_state=1234567890)\n",
    "\n",
    "# os.mkdir(\"data_db/\")\n",
    "# train_data.to_csv(\"data_db/train.csv\", index=None)\n",
    "# quant_data.to_csv(\"data_db/quant.csv\", index=None)\n",
    "# test_data.to_csv(\"data_db/test.csv\", index=None)\n",
    "# infer_data.to_csv(\"data_db/infer.csv\", index=None)"
   ]
  },
  {
   "cell_type": "markdown",
   "id": "6dbee6e0",
   "metadata": {},
   "source": [
    "__2. NEW DATALOADERS__"
   ]
  },
  {
   "cell_type": "code",
   "execution_count": null,
   "id": "a704fe41",
   "metadata": {},
   "outputs": [],
   "source": [
    "# data_dir = \"data_db/\""
   ]
  },
  {
   "cell_type": "code",
   "execution_count": 30,
   "id": "a185a478",
   "metadata": {},
   "outputs": [],
   "source": [
    "train_data = pd.read_csv(\"data_db/train.csv\")\n",
    "quant_data = pd.read_csv(\"data_db/quant.csv\")\n",
    "test_data = pd.read_csv(\"data_db/test.csv\")\n",
    "infer_data = pd.read_csv(\"data_db/infer.csv\")\n",
    "tst_0_data = train_data.iloc[:320]\n",
    "tst_1_data = train_data.iloc[320:2*320]"
   ]
  },
  {
   "cell_type": "code",
   "execution_count": 31,
   "id": "8abb180c",
   "metadata": {},
   "outputs": [],
   "source": [
    "data_train = ((row[0], row[2]) for row in train_data.values)\n",
    "data_quant = ((row[0], row[2]) for row in quant_data.values)\n",
    "data_test = ((row[0], row[2]) for row in test_data.values)\n",
    "data_infer = ((row[0], row[2]) for row in infer_data.values)\n",
    "data_tst_0 = ((row[0], row[2]) for row in tst_0_data.values)\n",
    "data_tst_1 = ((row[0], row[2]) for row in tst_1_data.values)"
   ]
  },
  {
   "cell_type": "code",
   "execution_count": 32,
   "id": "91248648",
   "metadata": {},
   "outputs": [],
   "source": [
    "def init_gpt2():\n",
    "    gpt2_config = GPT2Config(vocab_size=len(tokenizer.get_vocab()))\n",
    "    setattr(gpt2_config, \"pad_token_id\", 50256)\n",
    "    model = GPT2ForSequenceClassification.from_pretrained(pretrained_model_name_or_path=\"gpt2\",\n",
    "                                                          config=gpt2_config)\n",
    "    new_score = nn.Sequential(\n",
    "        nn.Linear(in_features=768, out_features=14, bias=False),\n",
    "        nn.Sigmoid()\n",
    "    )\n",
    "\n",
    "    setattr(model, \"score\", new_score)\n",
    "    return freeze_layers(model).to(DEVICE)\n",
    "    \n",
    "    \n",
    "def freeze_layers(model,\n",
    "                  except_last=37):\n",
    "    num_layers = sum(1 for p in model.parameters())\n",
    "    for num, (nam, p) in enumerate(model.named_parameters()):\n",
    "        if num >= num_layers - except_last:\n",
    "            p.requires_grad = True\n",
    "        else:\n",
    "            p.requires_grad = False\n",
    "    return model"
   ]
  },
  {
   "cell_type": "code",
   "execution_count": 33,
   "id": "156d540e",
   "metadata": {},
   "outputs": [],
   "source": [
    "class Trainer:\n",
    "    \n",
    "    @staticmethod\n",
    "    def rnd(x):\n",
    "        return np.round(float(x), 5)\n",
    "    \n",
    "    def __init__(self,\n",
    "                 model,\n",
    "                 train_data,\n",
    "                 test_data,\n",
    "                 batch_size,\n",
    "                 n_epochs,\n",
    "                 plateau,\n",
    "                 lr,\n",
    "                 lr_decay,\n",
    "                 min_lr,\n",
    "                 device,\n",
    "                 res_path,\n",
    "                 loss_fn=None,\n",
    "                 ):\n",
    "        self.model = model\n",
    "        self.train_data = train_data\n",
    "        self.test_data = test_data\n",
    "        self.batch_size = batch_size\n",
    "        self.n_epochs = n_epochs\n",
    "        self.plateau = plateau\n",
    "        self.lr = lr\n",
    "        self.lr_decay = lr_decay\n",
    "        self.min_lr = min_lr\n",
    "        self.device = device\n",
    "        self.res_path = res_path\n",
    "        \n",
    "        self.optimizer = optim.Adam(self.model.parameters(), self.lr)\n",
    "        self.loss_fn = nn.CrossEntropyLoss()\n",
    "        if loss_fn:\n",
    "            self.loss_fn = getattr(nn, loss_fn)()\n",
    "        self.history = {}\n",
    "        self.no_gain = 0\n",
    "    \n",
    "    def _dump_history(self):\n",
    "        with open(self.res_path, \"w\") as f:\n",
    "            json.dump(self.history, f)\n",
    "    \n",
    "    def _update_optimizer(self):\n",
    "        if self.lr * self.lr_decay >= self.min_lr:\n",
    "            print(f\"LR reduced on plateau from {self.lr} to {self.lr*self.lr_decay}\")\n",
    "            self.lr *= self.lr_decay\n",
    "        else:\n",
    "            print(f\"LR will no longer be reduced: current value is {self.min_lr}\")\n",
    "            self.lr = self.min_lr\n",
    "        self.optimizer = optim.Adam(self.model.parameters(), self.min_lr)\n",
    "        self.no_gain = 0\n",
    "            \n",
    "    def _clear_previous_best(self):\n",
    "        for file in os.listdir():\n",
    "            if \"gpt2_best_epoch\" in file:\n",
    "                os.remove(file)\n",
    "    \n",
    "    def _save_best_model(self,\n",
    "                         epoch,\n",
    "                         loss):\n",
    "        self._clear_previous_best()\n",
    "        filename = f\"gpt2_best_epoch_{epoch}_loss_{loss}.pt\"\n",
    "        torch.save(self.model.state_dict(), filename)\n",
    "        \n",
    "    \n",
    "    def _update_history(self,\n",
    "                        stats):\n",
    "        loss_trn, acc_trn, loss_val, acc_val = stats\n",
    "        print(f\"train loss - {loss_trn} , train acc - {acc_trn}\")\n",
    "        print(f\"val.loss - {loss_val}, val.acc - {acc_val}\")\n",
    "        self.history[\"loss_trn\"].append(self.rnd(loss_trn))\n",
    "        self.history[\"acc_trn\"].append(self.rnd(acc_trn))\n",
    "        self.history[\"loss_val\"].append(self.rnd(loss_val))\n",
    "        self.history[\"acc_val\"].append(self.rnd(acc_val))\n",
    "        \n",
    "    def _plot_history(self):\n",
    "        plt.subplots(figsize=(20,6))\n",
    "        plt.subplot(1,2,1)\n",
    "        plt.plot(range(len(self.history[\"loss_trn\"])), \n",
    "                           self.history[\"loss_trn\"], \n",
    "                           color=(0,0,1), \n",
    "                           alpha=0.5,\n",
    "                           label=\"Train.loss\")\n",
    "        plt.plot(range(len(self.history[\"loss_val\"])), \n",
    "                           self.history[\"loss_val\"], \n",
    "                           color=(1,0,0), \n",
    "                           alpha=0.5,\n",
    "                           label=\"Val.loss\")\n",
    "        plt.grid()\n",
    "        plt.xlim(0, self.n_epochs+1)\n",
    "        plt.title(\"Loss dynamics\")\n",
    "        plt.legend(fontsize=14)\n",
    "        plt.subplot(1,2,2)\n",
    "        plt.plot(range(len(self.history[\"acc_trn\"])), \n",
    "                           self.history[\"acc_trn\"], \n",
    "                           color=(0,0,1), \n",
    "                           alpha=0.5,\n",
    "                           label=\"Train.acc.\")\n",
    "        plt.plot(range(len(self.history[\"acc_val\"])), \n",
    "                           self.history[\"acc_val\"], \n",
    "                           color=(1,0,0), \n",
    "                           alpha=0.5,\n",
    "                           label=\"Val.acc\")\n",
    "        plt.grid()\n",
    "        plt.xlim(0, self.n_epochs+1)\n",
    "        plt.title(\"Accuracy dynamics\")\n",
    "        plt.legend(fontsize=14)\n",
    "        plt.show()\n",
    "    \n",
    "    def train(self):\n",
    "        if os.path.exists(self.res_path):\n",
    "            os.remove(self.res_path)\n",
    "        self.history = {\n",
    "            \"loss_trn\": [],\n",
    "            \"loss_val\": [],\n",
    "            \"acc_trn\": [],\n",
    "            \"acc_val\": [],\n",
    "            \"best_loss\": 1e10\n",
    "        }\n",
    "        for epoch in range(1, self.n_epochs+1):\n",
    "            stats = self.train_epoch(epoch)\n",
    "            if self.rnd(stats[2]) < self.history[\"best_loss\"]:\n",
    "                self.history[\"best_loss\"] = self.rnd(stats[2])\n",
    "                self.no_gain = 0\n",
    "                self._save_best_model(epoch,\n",
    "                                      self.rnd(stats[2]))\n",
    "            else:\n",
    "                self.no_gain += 1\n",
    "            if self.no_gain == self.plateau:\n",
    "                self._update_optimizer()\n",
    "            self._update_history(stats)\n",
    "            self._plot_history()\n",
    "            self._dump_history()\n",
    "        return self.model\n",
    "            \n",
    "    def train_epoch(self,\n",
    "                    epoch):\n",
    "        loss_trn = 0\n",
    "        acc_trn = 0\n",
    "        batch_trn = 0\n",
    "        loss_val = 0\n",
    "        acc_val = 0\n",
    "        batch_val = 0\n",
    "        self.model.to(self.device)\n",
    "        self.model.train()\n",
    "        data_tst_0 = ((row[0], row[2]) for row in self.train_data.values)\n",
    "        data_tst_1 = ((row[0], row[2]) for row in self.test_data.values)\n",
    "        print(f\"Epoch {epoch}:\")\n",
    "        self.model.train()\n",
    "        for num, (x, y) in enumerate(tqdm(custom_data_gen(data_tst_0,\n",
    "                                                          tokenizer,\n",
    "                                                          MAX_LEN,\n",
    "                                                          self.batch_size,\n",
    "                                                          self.device)),\n",
    "                                     start=1):\n",
    "            loss, acc = self.run_batch(x,\n",
    "                                  y)\n",
    "            batch_trn += 1\n",
    "            loss_trn += loss.item()\n",
    "            acc_trn += acc.item()\n",
    "            if num % 5 == 0:\n",
    "                print(f\"Train loss - {self.rnd(loss_trn/num)}, train acc - {self.rnd(acc_trn/num)}\", end=\"\\r\")\n",
    "        \n",
    "        self.model.eval()\n",
    "        for num, (x, y) in enumerate(tqdm(custom_data_gen(data_tst_1,\n",
    "                                                          tokenizer,\n",
    "                                                          MAX_LEN,\n",
    "                                                          self.batch_size,\n",
    "                                                          self.device)),\n",
    "                                     start=1):\n",
    "            with torch.no_grad():\n",
    "                loss, acc = self.run_batch(x,\n",
    "                                           y,\n",
    "                                           train=False)\n",
    "                batch_val += 1\n",
    "                loss_val += loss.item()\n",
    "                acc_val += acc.item()\n",
    "                if num % 5 == 0:\n",
    "                    print(f\"Val loss - {self.rnd(loss_val/num)}, val acc - {self.rnd(acc_val/num)}\", end=\"\\r\")\n",
    "        clear_output()\n",
    "        return loss_trn / batch_trn, acc_trn / batch_trn, loss_val / batch_val, acc_val / batch_val\n",
    "    \n",
    "    def run_batch(self,\n",
    "                  x,\n",
    "                  y,\n",
    "                  train=True):\n",
    "        x = x.to(self.device)\n",
    "        y = y.to(self.device)\n",
    "        self.optimizer.zero_grad()\n",
    "        preds = self.model(x).logits\n",
    "        loss = self.loss_fn(preds, y.long())\n",
    "        acc = torch.sum(torch.argmax(preds, dim=-1) == y) / self.batch_size\n",
    "        if train:\n",
    "            loss.backward()\n",
    "            self.optimizer.step()\n",
    "        return loss, acc\n",
    "    "
   ]
  },
  {
   "cell_type": "code",
   "execution_count": null,
   "id": "87a5fd49",
   "metadata": {},
   "outputs": [
    {
     "name": "stdout",
     "output_type": "stream",
     "text": [
      "train loss - 1.797860581125532 , train acc - 0.9195803571428571\n",
      "val.loss - 1.805350885941432, val.acc - 0.914320054945055\n"
     ]
    },
    {
     "data": {
      "image/png": "[encoded data removed]",
      "text/plain": [
       "<Figure size 1440x432 with 2 Axes>"
      ]
     },
     "metadata": {
      "needs_background": "light"
     },
     "output_type": "display_data"
    },
    {
     "name": "stdout",
     "output_type": "stream",
     "text": [
      "Epoch 12:\n"
     ]
    },
    {
     "data": {
      "application/vnd.jupyter.widget-view+json": {
       "model_id": "5377633315ff439f9d0f35ef019456b7",
       "version_major": 2,
       "version_minor": 0
      },
      "text/plain": [
       "0it [00:00, ?it/s]"
      ]
     },
     "metadata": {},
     "output_type": "display_data"
    },
    {
     "name": "stdout",
     "output_type": "stream",
     "text": [
      "Train loss - 1.79718, train acc - 0.91999\r"
     ]
    }
   ],
   "source": [
    "model = init_gpt2()\n",
    "trainer = Trainer(model,\n",
    "                  train_data,\n",
    "                  test_data,\n",
    "                  BATCH_SIZE,\n",
    "                  n_epochs=N_EPOCHS,\n",
    "                  plateau=PLATEAU,\n",
    "                  lr=LR,\n",
    "                  lr_decay=LR_DECAY,\n",
    "                  min_lr=MIN_LR,\n",
    "                  device=DEVICE,\n",
    "                  res_path=\"results_gpt2_base.json\")\n",
    "model_trained = trainer.train()"
   ]
  },
  {
   "cell_type": "code",
   "execution_count": null,
   "id": "8705f331",
   "metadata": {},
   "outputs": [],
   "source": []
  },
  {
   "cell_type": "markdown",
   "id": "07787c81",
   "metadata": {},
   "source": [
    "__transformers search__\n",
    "\n",
    "1. models/gpt2/modeling_gpt2.py class GPT2ForSequenceClassification(GPT2PreTrainedModel)\n",
    "2. models/gpt2/modeling_gpt2.py class GPT2PreTrainedModel(PreTrainedModel)\n",
    "3. modeling_utils.py class PreTrainedModel(nn.Module, ModuleUtilsMixin, GenerationMixin, PushToHubMixin)\n",
    "4. modeling_utils.py class ModuleUtilsMixin\n",
    "5. generation_utils.py class GenerationMixin\n",
    "6. file_utils.py class PushToHubMixin\n",
    "7. models/gpt2/modeling_gpt2.py class GPT2Model(GPT2PreTrainedModel) (maybe embedding quantization can be ussed)\n",
    "8. models/gpt2/modeling_gpt2.py class GPT2Block(nn.Module)\n",
    "9. models/gpt2/modeling_gpt2.py class GPT2Attention(nn.Module) (__modify this to quantize attention block__)"
   ]
  },
  {
   "cell_type": "code",
   "execution_count": null,
   "id": "bd2d95cb",
   "metadata": {},
   "outputs": [],
   "source": []
  },
  {
   "cell_type": "code",
   "execution_count": null,
   "id": "0255ba69",
   "metadata": {},
   "outputs": [],
   "source": [
    "all_params = sum(torch.mul(*p.view(1,-1).size()) for p in model.parameters() if len(p.size()) > 1).item()"
   ]
  },
  {
   "cell_type": "code",
   "execution_count": null,
   "id": "b7797c6c",
   "metadata": {},
   "outputs": [],
   "source": [
    "all_params"
   ]
  },
  {
   "cell_type": "code",
   "execution_count": null,
   "id": "c5280af7",
   "metadata": {},
   "outputs": [],
   "source": [
    "all_params"
   ]
  },
  {
   "cell_type": "code",
   "execution_count": null,
   "id": "2920972a",
   "metadata": {},
   "outputs": [],
   "source": [
    "768*768"
   ]
  },
  {
   "cell_type": "code",
   "execution_count": null,
   "id": "b304da7d",
   "metadata": {},
   "outputs": [],
   "source": [
    "torch.mul(*torch.Tensor([768, 768]))"
   ]
  },
  {
   "cell_type": "code",
   "execution_count": null,
   "id": "f730fc1a",
   "metadata": {},
   "outputs": [],
   "source": [
    "x = p.size()"
   ]
  },
  {
   "cell_type": "code",
   "execution_count": null,
   "id": "119e3b09",
   "metadata": {},
   "outputs": [],
   "source": [
    "torch.mul(*x).item()"
   ]
  },
  {
   "cell_type": "code",
   "execution_count": null,
   "id": "e16b8d51",
   "metadata": {},
   "outputs": [],
   "source": []
  },
  {
   "cell_type": "code",
   "execution_count": null,
   "id": "9afc26a8",
   "metadata": {},
   "outputs": [],
   "source": []
  },
  {
   "cell_type": "code",
   "execution_count": null,
   "id": "5a51c2e7",
   "metadata": {},
   "outputs": [],
   "source": []
  },
  {
   "cell_type": "code",
   "execution_count": null,
   "id": "8e8431b8",
   "metadata": {},
   "outputs": [],
   "source": []
  },
  {
   "cell_type": "code",
   "execution_count": null,
   "id": "4abc47c5",
   "metadata": {},
   "outputs": [],
   "source": []
  }
 ],
 "metadata": {
  "kernelspec": {
   "display_name": "Python 3",
   "language": "python",
   "name": "python3"
  },
  "language_info": {
   "codemirror_mode": {
    "name": "ipython",
    "version": 3
   },
   "file_extension": ".py",
   "mimetype": "text/x-python",
   "name": "python",
   "nbconvert_exporter": "python",
   "pygments_lexer": "ipython3",
   "version": "3.6.9"
  }
 },
 "nbformat": 4,
 "nbformat_minor": 5
}
